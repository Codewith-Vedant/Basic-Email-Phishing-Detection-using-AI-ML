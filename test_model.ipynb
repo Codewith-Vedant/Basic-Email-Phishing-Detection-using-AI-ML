{
 "cells": [
  {
   "cell_type": "code",
   "execution_count": 1,
   "id": "8ea2576d-7407-40a0-b648-e951fcd4b0c4",
   "metadata": {},
   "outputs": [],
   "source": [
    "import pickle\n",
    "from sklearn.feature_extraction.text import TfidfVectorizer"
   ]
  },
  {
   "cell_type": "code",
   "execution_count": 4,
   "id": "e7befd88-23d5-4b1d-8241-f500a66a617d",
   "metadata": {},
   "outputs": [],
   "source": [
    "import joblib\n",
    "with open('rf_new_model.pkl', 'rb') as file:\n",
    "    model = joblib.load(file)\n",
    "\n",
    "# Sample TF-IDF vectorizer (ensure you use the same one used during training)\n",
    "with open('tfidf_vectorizer.pkl', 'rb') as file:\n",
    "    vectorizer = pickle.load(file)"
   ]
  },
  {
   "cell_type": "code",
   "execution_count": 76,
   "id": "f71e6449-185d-4fbb-bd70-a38ea279e906",
   "metadata": {},
   "outputs": [],
   "source": [
    "Model_labels = {\"0\": \"It looks like a Legitimate Email\", \"1\": \"Tread Carefully, something seems fishy about it\"}"
   ]
  },
  {
   "cell_type": "code",
   "execution_count": 80,
   "id": "8a552408-0489-48fd-817a-b6700fd5ecc0",
   "metadata": {},
   "outputs": [],
   "source": [
    "def predict_phishing(subject, body):\n",
    "    # Combine subject and body\n",
    "    email_content = subject + \" \" + body\n",
    "    \n",
    "    # Transform the email content using the vectorizer\n",
    "    email_vector = vectorizer.transform([email_content])\n",
    "    \n",
    "    # Predict using the loaded model\n",
    "    prediction = model.predict(email_vector)\n",
    "\n",
    "    prediction_label = Model_labels.get(prediction[0], \"Unknown Prediction\")\n",
    "\n",
    "    return prediction_label\n",
    "    "
   ]
  },
  {
   "cell_type": "code",
   "execution_count": 82,
   "id": "853e3e0c-ed22-4373-911c-455de7ac3a81",
   "metadata": {},
   "outputs": [
    {
     "name": "stdout",
     "output_type": "stream",
     "text": [
      "Prediction: Tread Carefully, something seems fishy about it\n"
     ]
    }
   ],
   "source": [
    "subject = \"Learn, Earn, Repeat! 📚💰\"\n",
    "body = \"Internshala Hi Vedant, What if learning could come with some extra cash? With our work-from-home internships, it’s as simple as: Learn, Earn, Repeat! 🔁Here's why these internships are perfect for you:1. Work just a few hours a day : Juggle classes, hobbies, and internships without breaking a sweat.2. Earn while you learn : Turn your free time into quick cash, making it easier to enjoy the things you love.3. Gain valuable experience : Build your resume with real-world skills and projects—all from the comfort of your home.Whether you're between classes, binge-watching your favorite series, or just looking to fill some downtime, these internships fit right in! But don’t wait too long—these opportunities won’t stick around forever. ⏰[Apply Now] and make every hour count!Keep Learning & Earning,Team Internshala :)Apply now\"\n",
    "result = predict_phishing(subject, body)\n",
    "print(\"Prediction:\", result)"
   ]
  },
  {
   "cell_type": "code",
   "execution_count": 85,
   "id": "d1203ae3-95b4-4034-93e8-f323b6133473",
   "metadata": {},
   "outputs": [
    {
     "name": "stdout",
     "output_type": "stream",
     "text": [
      "First Email:  Tread Carefully, something seems fishy about it\n",
      "Second Email:  It looks like a Legitimate Email\n"
     ]
    }
   ],
   "source": [
    "# Known phishing example\n",
    "subject = \"You’ve won a prize!\"\n",
    "body = \"Click here to claim your reward.\"\n",
    "print(\"First Email: \", predict_phishing(subject, body))  # Expected: Phishing Email\n",
    "\n",
    "# Known legitimate example\n",
    "subject = \"Meeting reminder\"\n",
    "body = \"The meeting is scheduled for tomorrow.\"\n",
    "print(\"Second Email: \", predict_phishing(subject, body))  # Expected: Legitimate Email"
   ]
  },
  {
   "cell_type": "code",
   "execution_count": null,
   "id": "2137376d-4fa2-4719-b064-90a517106d27",
   "metadata": {},
   "outputs": [],
   "source": []
  }
 ],
 "metadata": {
  "kernelspec": {
   "display_name": "Python 3 (ipykernel)",
   "language": "python",
   "name": "python3"
  },
  "language_info": {
   "codemirror_mode": {
    "name": "ipython",
    "version": 3
   },
   "file_extension": ".py",
   "mimetype": "text/x-python",
   "name": "python",
   "nbconvert_exporter": "python",
   "pygments_lexer": "ipython3",
   "version": "3.8.19"
  }
 },
 "nbformat": 4,
 "nbformat_minor": 5
}
