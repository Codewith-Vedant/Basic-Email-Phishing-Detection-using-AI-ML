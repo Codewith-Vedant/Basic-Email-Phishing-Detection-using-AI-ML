{
 "cells": [
  {
   "cell_type": "code",
   "execution_count": 12,
   "id": "b33157dc-0302-46f1-adcf-3560a26f50e8",
   "metadata": {},
   "outputs": [],
   "source": [
    "import shutil\n",
    "import csv\n",
    "import os"
   ]
  },
  {
   "cell_type": "code",
   "execution_count": 15,
   "id": "aae77ebb-6616-42d8-9afa-0d6192a3a97b",
   "metadata": {},
   "outputs": [
    {
     "name": "stdout",
     "output_type": "stream",
     "text": [
      "Contents of all CSV files have been merged into destination.csv successfully!\n"
     ]
    }
   ],
   "source": [
    "# List of source CSV files to be merged\n",
    "source_files = ['data/CEAS_08.csv', 'data/SpamAssasin.csv', 'data/TREC_05.csv' , 'data/TREC_06.csv', 'data/TREC_07.csv']  # Add your file paths here\n",
    "\n",
    "# Increase the CSV field size limit\n",
    "csv.field_size_limit(10**8)  # You can set this to a large value if needed\n",
    "\n",
    "# Path to the destination CSV file\n",
    "destination_csv = 'data/destination.csv'\n",
    "\n",
    "# Ensure the destination directory exists\n",
    "os.makedirs(os.path.dirname(destination_csv), exist_ok=True)\n",
    "\n",
    "# Open the destination file for writing\n",
    "with open(destination_csv, mode='w', newline='', encoding='utf-8') as dest:\n",
    "    writer = csv.writer(dest)\n",
    "    \n",
    "    # Process each source file\n",
    "    for source_file in source_files:\n",
    "        with open(source_file, mode='r', encoding='utf-8', newline='') as src:\n",
    "            reader = csv.reader(src)\n",
    "            \n",
    "            # Copy rows from the source file to the destination file\n",
    "            for row in reader:\n",
    "                writer.writerow(row)\n",
    "\n",
    "print(\"Contents of all CSV files have been merged into destination.csv successfully!\")\n"
   ]
  },
  {
   "cell_type": "code",
   "execution_count": null,
   "id": "a458365d-a0d8-44f3-bc5d-c80c143f538e",
   "metadata": {},
   "outputs": [],
   "source": []
  }
 ],
 "metadata": {
  "kernelspec": {
   "display_name": "Python 3 (ipykernel)",
   "language": "python",
   "name": "python3"
  },
  "language_info": {
   "codemirror_mode": {
    "name": "ipython",
    "version": 3
   },
   "file_extension": ".py",
   "mimetype": "text/x-python",
   "name": "python",
   "nbconvert_exporter": "python",
   "pygments_lexer": "ipython3",
   "version": "3.11.5"
  }
 },
 "nbformat": 4,
 "nbformat_minor": 5
}
